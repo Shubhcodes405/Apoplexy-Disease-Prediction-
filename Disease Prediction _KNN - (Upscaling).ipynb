{
 "cells": [
  {
   "cell_type": "markdown",
   "id": "dad3c6d8",
   "metadata": {},
   "source": [
    "Methods used-\n",
    "\n",
    "1. Mean for missing data.\n",
    "2. Discretization with decision trees for continuous variables.\n",
    "3. Weight of evidence method for categorical encoding.\n",
    "4. Standard scaler for feature scaling.\n",
    "\n",
    "Conclusion-\n",
    "\n",
    "1. KNN overall predicts very well with the upscaling.\n",
    "2. The Discretization with decision trees and WOE method for categorical encoding creates a monotonic relationship between features and target column.\n",
    "3. Overall good model but with comparatively large number of false positives."
   ]
  },
  {
   "cell_type": "code",
   "execution_count": 1,
   "id": "3bb71167",
   "metadata": {},
   "outputs": [],
   "source": [
    "import numpy as np\n",
    "import pandas as pd\n",
    "import matplotlib.pyplot as plt"
   ]
  },
  {
   "cell_type": "code",
   "execution_count": 2,
   "id": "8006b8db",
   "metadata": {},
   "outputs": [],
   "source": [
    "dataset = pd.read_csv('Disease Prediction Data.csv')\n",
    "dataset=dataset.drop('id',axis=1)"
   ]
  },
  {
   "cell_type": "code",
   "execution_count": 3,
   "id": "740417b5",
   "metadata": {},
   "outputs": [
    {
     "name": "stdout",
     "output_type": "stream",
     "text": [
      "(5110, 11)\n"
     ]
    },
    {
     "data": {
      "text/html": [
       "<div>\n",
       "<style scoped>\n",
       "    .dataframe tbody tr th:only-of-type {\n",
       "        vertical-align: middle;\n",
       "    }\n",
       "\n",
       "    .dataframe tbody tr th {\n",
       "        vertical-align: top;\n",
       "    }\n",
       "\n",
       "    .dataframe thead th {\n",
       "        text-align: right;\n",
       "    }\n",
       "</style>\n",
       "<table border=\"1\" class=\"dataframe\">\n",
       "  <thead>\n",
       "    <tr style=\"text-align: right;\">\n",
       "      <th></th>\n",
       "      <th>gender</th>\n",
       "      <th>age</th>\n",
       "      <th>hypertension</th>\n",
       "      <th>heart_disease</th>\n",
       "      <th>ever_married</th>\n",
       "      <th>work_type</th>\n",
       "      <th>Residence_type</th>\n",
       "      <th>avg_glucose_level</th>\n",
       "      <th>bmi</th>\n",
       "      <th>smoking_status</th>\n",
       "      <th>apoplexy</th>\n",
       "    </tr>\n",
       "  </thead>\n",
       "  <tbody>\n",
       "    <tr>\n",
       "      <th>0</th>\n",
       "      <td>Male</td>\n",
       "      <td>67.0</td>\n",
       "      <td>No</td>\n",
       "      <td>Yes</td>\n",
       "      <td>Yes</td>\n",
       "      <td>Private</td>\n",
       "      <td>Urban</td>\n",
       "      <td>228.69</td>\n",
       "      <td>36.6</td>\n",
       "      <td>formerly smoked</td>\n",
       "      <td>Yes</td>\n",
       "    </tr>\n",
       "    <tr>\n",
       "      <th>1</th>\n",
       "      <td>Female</td>\n",
       "      <td>61.0</td>\n",
       "      <td>No</td>\n",
       "      <td>No</td>\n",
       "      <td>Yes</td>\n",
       "      <td>Self-employed</td>\n",
       "      <td>Rural</td>\n",
       "      <td>202.21</td>\n",
       "      <td>NaN</td>\n",
       "      <td>never smoked</td>\n",
       "      <td>Yes</td>\n",
       "    </tr>\n",
       "    <tr>\n",
       "      <th>2</th>\n",
       "      <td>Male</td>\n",
       "      <td>80.0</td>\n",
       "      <td>No</td>\n",
       "      <td>Yes</td>\n",
       "      <td>Yes</td>\n",
       "      <td>Private</td>\n",
       "      <td>Rural</td>\n",
       "      <td>105.92</td>\n",
       "      <td>32.5</td>\n",
       "      <td>never smoked</td>\n",
       "      <td>Yes</td>\n",
       "    </tr>\n",
       "    <tr>\n",
       "      <th>3</th>\n",
       "      <td>Female</td>\n",
       "      <td>49.0</td>\n",
       "      <td>No</td>\n",
       "      <td>No</td>\n",
       "      <td>Yes</td>\n",
       "      <td>Private</td>\n",
       "      <td>Urban</td>\n",
       "      <td>171.23</td>\n",
       "      <td>34.4</td>\n",
       "      <td>smokes</td>\n",
       "      <td>Yes</td>\n",
       "    </tr>\n",
       "    <tr>\n",
       "      <th>4</th>\n",
       "      <td>Female</td>\n",
       "      <td>79.0</td>\n",
       "      <td>Yes</td>\n",
       "      <td>No</td>\n",
       "      <td>Yes</td>\n",
       "      <td>Self-employed</td>\n",
       "      <td>Rural</td>\n",
       "      <td>174.12</td>\n",
       "      <td>24.0</td>\n",
       "      <td>never smoked</td>\n",
       "      <td>Yes</td>\n",
       "    </tr>\n",
       "  </tbody>\n",
       "</table>\n",
       "</div>"
      ],
      "text/plain": [
       "   gender   age hypertension heart_disease ever_married      work_type  \\\n",
       "0    Male  67.0           No           Yes          Yes        Private   \n",
       "1  Female  61.0           No            No          Yes  Self-employed   \n",
       "2    Male  80.0           No           Yes          Yes        Private   \n",
       "3  Female  49.0           No            No          Yes        Private   \n",
       "4  Female  79.0          Yes            No          Yes  Self-employed   \n",
       "\n",
       "  Residence_type  avg_glucose_level   bmi   smoking_status apoplexy  \n",
       "0          Urban             228.69  36.6  formerly smoked      Yes  \n",
       "1          Rural             202.21   NaN     never smoked      Yes  \n",
       "2          Rural             105.92  32.5     never smoked      Yes  \n",
       "3          Urban             171.23  34.4           smokes      Yes  \n",
       "4          Rural             174.12  24.0     never smoked      Yes  "
      ]
     },
     "execution_count": 3,
     "metadata": {},
     "output_type": "execute_result"
    }
   ],
   "source": [
    "print(dataset.shape)\n",
    "dataset.head()"
   ]
  },
  {
   "cell_type": "code",
   "execution_count": 4,
   "id": "76505b1a",
   "metadata": {},
   "outputs": [
    {
     "data": {
      "text/plain": [
       "No     4861\n",
       "Yes     249\n",
       "Name: apoplexy, dtype: int64"
      ]
     },
     "execution_count": 4,
     "metadata": {},
     "output_type": "execute_result"
    }
   ],
   "source": [
    "dataset['apoplexy'].value_counts()"
   ]
  },
  {
   "cell_type": "code",
   "execution_count": 5,
   "id": "d175f6e8",
   "metadata": {},
   "outputs": [
    {
     "data": {
      "text/plain": [
       "gender               0.000000\n",
       "age                  0.000000\n",
       "hypertension         0.000000\n",
       "heart_disease        0.000000\n",
       "ever_married         0.000000\n",
       "work_type            0.000000\n",
       "Residence_type       0.000000\n",
       "avg_glucose_level    0.000000\n",
       "bmi                  0.039335\n",
       "smoking_status       0.000000\n",
       "apoplexy             0.000000\n",
       "dtype: float64"
      ]
     },
     "execution_count": 5,
     "metadata": {},
     "output_type": "execute_result"
    }
   ],
   "source": [
    "dataset.isnull().mean()"
   ]
  },
  {
   "cell_type": "code",
   "execution_count": 6,
   "id": "5f4e44e3",
   "metadata": {},
   "outputs": [
    {
     "data": {
      "text/plain": [
       "['bmi']"
      ]
     },
     "execution_count": 6,
     "metadata": {},
     "output_type": "execute_result"
    }
   ],
   "source": [
    "vars_with_na=[var for var in dataset.columns if dataset[var].isnull().mean()>0]\n",
    "vars_with_na"
   ]
  },
  {
   "cell_type": "code",
   "execution_count": 7,
   "id": "757c38db",
   "metadata": {},
   "outputs": [
    {
     "data": {
      "text/plain": [
       "<matplotlib.legend.Legend at 0x24c28f66160>"
      ]
     },
     "execution_count": 7,
     "metadata": {},
     "output_type": "execute_result"
    },
    {
     "data": {
      "image/png": "[encoded data removed]",
      "text/plain": [
       "<Figure size 432x288 with 1 Axes>"
      ]
     },
     "metadata": {
      "needs_background": "light"
     },
     "output_type": "display_data"
    }
   ],
   "source": [
    "bmi_check=pd.DataFrame()\n",
    "from sklearn.impute import SimpleImputer\n",
    "imputer = SimpleImputer(strategy='mean')\n",
    "\n",
    "bmi_check['bmi']=dataset['bmi']\n",
    "bmi_check['bmi_mean']=imputer.fit_transform(dataset[['bmi']])\n",
    "\n",
    "fig_median=plt.figure()\n",
    "ax1=fig_median.add_subplot(111)\n",
    "\n",
    "bmi_check['bmi'].plot(kind='kde', ax=ax1, color='blue')\n",
    "bmi_check['bmi_mean'].plot(kind='kde', ax=ax1, color='red')\n",
    "\n",
    "\n",
    "lines1, labels1 = ax1.get_legend_handles_labels()\n",
    "ax1.legend(lines1, labels1, loc='best')"
   ]
  },
  {
   "cell_type": "code",
   "execution_count": 8,
   "id": "b5bd131a",
   "metadata": {},
   "outputs": [],
   "source": [
    "from sklearn.impute import SimpleImputer\n",
    "imputer = SimpleImputer(strategy='mean')\n",
    "dataset['bmi']=imputer.fit_transform(dataset[['bmi']])"
   ]
  },
  {
   "cell_type": "code",
   "execution_count": 9,
   "id": "6289632c",
   "metadata": {},
   "outputs": [
    {
     "data": {
      "text/html": [
       "<div>\n",
       "<style scoped>\n",
       "    .dataframe tbody tr th:only-of-type {\n",
       "        vertical-align: middle;\n",
       "    }\n",
       "\n",
       "    .dataframe tbody tr th {\n",
       "        vertical-align: top;\n",
       "    }\n",
       "\n",
       "    .dataframe thead th {\n",
       "        text-align: right;\n",
       "    }\n",
       "</style>\n",
       "<table border=\"1\" class=\"dataframe\">\n",
       "  <thead>\n",
       "    <tr style=\"text-align: right;\">\n",
       "      <th></th>\n",
       "      <th>gender</th>\n",
       "      <th>age</th>\n",
       "      <th>hypertension</th>\n",
       "      <th>heart_disease</th>\n",
       "      <th>ever_married</th>\n",
       "      <th>work_type</th>\n",
       "      <th>Residence_type</th>\n",
       "      <th>avg_glucose_level</th>\n",
       "      <th>bmi</th>\n",
       "      <th>smoking_status</th>\n",
       "      <th>apoplexy</th>\n",
       "    </tr>\n",
       "  </thead>\n",
       "  <tbody>\n",
       "    <tr>\n",
       "      <th>0</th>\n",
       "      <td>Male</td>\n",
       "      <td>67.0</td>\n",
       "      <td>No</td>\n",
       "      <td>Yes</td>\n",
       "      <td>Yes</td>\n",
       "      <td>Private</td>\n",
       "      <td>Urban</td>\n",
       "      <td>228.69</td>\n",
       "      <td>36.600000</td>\n",
       "      <td>formerly smoked</td>\n",
       "      <td>Yes</td>\n",
       "    </tr>\n",
       "    <tr>\n",
       "      <th>1</th>\n",
       "      <td>Female</td>\n",
       "      <td>61.0</td>\n",
       "      <td>No</td>\n",
       "      <td>No</td>\n",
       "      <td>Yes</td>\n",
       "      <td>Self-employed</td>\n",
       "      <td>Rural</td>\n",
       "      <td>202.21</td>\n",
       "      <td>28.893237</td>\n",
       "      <td>never smoked</td>\n",
       "      <td>Yes</td>\n",
       "    </tr>\n",
       "    <tr>\n",
       "      <th>2</th>\n",
       "      <td>Male</td>\n",
       "      <td>80.0</td>\n",
       "      <td>No</td>\n",
       "      <td>Yes</td>\n",
       "      <td>Yes</td>\n",
       "      <td>Private</td>\n",
       "      <td>Rural</td>\n",
       "      <td>105.92</td>\n",
       "      <td>32.500000</td>\n",
       "      <td>never smoked</td>\n",
       "      <td>Yes</td>\n",
       "    </tr>\n",
       "    <tr>\n",
       "      <th>3</th>\n",
       "      <td>Female</td>\n",
       "      <td>49.0</td>\n",
       "      <td>No</td>\n",
       "      <td>No</td>\n",
       "      <td>Yes</td>\n",
       "      <td>Private</td>\n",
       "      <td>Urban</td>\n",
       "      <td>171.23</td>\n",
       "      <td>34.400000</td>\n",
       "      <td>smokes</td>\n",
       "      <td>Yes</td>\n",
       "    </tr>\n",
       "    <tr>\n",
       "      <th>4</th>\n",
       "      <td>Female</td>\n",
       "      <td>79.0</td>\n",
       "      <td>Yes</td>\n",
       "      <td>No</td>\n",
       "      <td>Yes</td>\n",
       "      <td>Self-employed</td>\n",
       "      <td>Rural</td>\n",
       "      <td>174.12</td>\n",
       "      <td>24.000000</td>\n",
       "      <td>never smoked</td>\n",
       "      <td>Yes</td>\n",
       "    </tr>\n",
       "  </tbody>\n",
       "</table>\n",
       "</div>"
      ],
      "text/plain": [
       "   gender   age hypertension heart_disease ever_married      work_type  \\\n",
       "0    Male  67.0           No           Yes          Yes        Private   \n",
       "1  Female  61.0           No            No          Yes  Self-employed   \n",
       "2    Male  80.0           No           Yes          Yes        Private   \n",
       "3  Female  49.0           No            No          Yes        Private   \n",
       "4  Female  79.0          Yes            No          Yes  Self-employed   \n",
       "\n",
       "  Residence_type  avg_glucose_level        bmi   smoking_status apoplexy  \n",
       "0          Urban             228.69  36.600000  formerly smoked      Yes  \n",
       "1          Rural             202.21  28.893237     never smoked      Yes  \n",
       "2          Rural             105.92  32.500000     never smoked      Yes  \n",
       "3          Urban             171.23  34.400000           smokes      Yes  \n",
       "4          Rural             174.12  24.000000     never smoked      Yes  "
      ]
     },
     "execution_count": 9,
     "metadata": {},
     "output_type": "execute_result"
    }
   ],
   "source": [
    "dataset.head()"
   ]
  },
  {
   "cell_type": "code",
   "execution_count": 10,
   "id": "1b9a1c7c",
   "metadata": {},
   "outputs": [
    {
     "data": {
      "image/png": "[encoded data removed]",
      "text/plain": [
       "<Figure size 432x288 with 4 Axes>"
      ]
     },
     "metadata": {
      "needs_background": "light"
     },
     "output_type": "display_data"
    }
   ],
   "source": [
    "dataset[['age','avg_glucose_level','bmi']].hist(bins=30)\n",
    "plt.show()"
   ]
  },
  {
   "cell_type": "code",
   "execution_count": 11,
   "id": "51b2013a",
   "metadata": {},
   "outputs": [],
   "source": [
    "def impute_na(data, variable):\n",
    "    df=data.copy()\n",
    "    \n",
    "    df[variable+'_random']=df[variable]\n",
    "    random_sample = dataset[variable].dropna().sample(df[variable].isnull().sum(), random_state=0)\n",
    "    random_sample.index = df[df[variable].isnull()].index\n",
    "    df.loc[df[variable].isnull(), variable+'_random']=random_sample\n",
    "    return df[variable+'_random']\n",
    "    "
   ]
  },
  {
   "cell_type": "code",
   "execution_count": 12,
   "id": "cd1a0fc6",
   "metadata": {},
   "outputs": [],
   "source": [
    "dataset['age']=impute_na(dataset, 'age')\n",
    "dataset['avg_glucose_level']=impute_na(dataset, 'avg_glucose_level')\n",
    "dataset['bmi']=impute_na(dataset, 'bmi')\n"
   ]
  },
  {
   "cell_type": "code",
   "execution_count": 13,
   "id": "399e3ecc",
   "metadata": {},
   "outputs": [],
   "source": [
    "x=dataset.iloc[:,:-1]\n",
    "y=dataset.iloc[:,-1]"
   ]
  },
  {
   "cell_type": "code",
   "execution_count": 14,
   "id": "047490e2",
   "metadata": {},
   "outputs": [],
   "source": [
    "from sklearn.tree import DecisionTreeClassifier\n",
    "tree_model = DecisionTreeClassifier(max_depth = 4)\n",
    "tree_model.fit(x['age'].to_frame(), y)\n",
    "x['age']=tree_model.predict_proba(x['age'].to_frame())\n"
   ]
  },
  {
   "cell_type": "code",
   "execution_count": 15,
   "id": "8728beeb",
   "metadata": {},
   "outputs": [],
   "source": [
    "tree_model1 = DecisionTreeClassifier(max_depth = 4)\n",
    "tree_model1.fit(x['avg_glucose_level'].to_frame(), y)\n",
    "x['avg_glucose_level']=tree_model1.predict_proba(x['avg_glucose_level'].to_frame())"
   ]
  },
  {
   "cell_type": "code",
   "execution_count": 16,
   "id": "231f00ec",
   "metadata": {},
   "outputs": [],
   "source": [
    "tree_model2 = DecisionTreeClassifier(max_depth = 4)\n",
    "tree_model2.fit(x['bmi'].to_frame(), y)\n",
    "x['bmi']=tree_model2.predict_proba(x['bmi'].to_frame())"
   ]
  },
  {
   "cell_type": "code",
   "execution_count": 17,
   "id": "768a5022",
   "metadata": {},
   "outputs": [],
   "source": [
    "dataset=pd.concat([x,y],axis=1)"
   ]
  },
  {
   "cell_type": "code",
   "execution_count": 18,
   "id": "0f1282b4",
   "metadata": {},
   "outputs": [
    {
     "data": {
      "image/png": "[encoded data removed]",
      "text/plain": [
       "<Figure size 432x288 with 4 Axes>"
      ]
     },
     "metadata": {
      "needs_background": "light"
     },
     "output_type": "display_data"
    }
   ],
   "source": [
    "dataset[['age','avg_glucose_level','bmi']].hist(bins=30)\n",
    "plt.show()"
   ]
  },
  {
   "cell_type": "code",
   "execution_count": 19,
   "id": "048c3cba",
   "metadata": {},
   "outputs": [
    {
     "data": {
      "text/html": [
       "<div>\n",
       "<style scoped>\n",
       "    .dataframe tbody tr th:only-of-type {\n",
       "        vertical-align: middle;\n",
       "    }\n",
       "\n",
       "    .dataframe tbody tr th {\n",
       "        vertical-align: top;\n",
       "    }\n",
       "\n",
       "    .dataframe thead th {\n",
       "        text-align: right;\n",
       "    }\n",
       "</style>\n",
       "<table border=\"1\" class=\"dataframe\">\n",
       "  <thead>\n",
       "    <tr style=\"text-align: right;\">\n",
       "      <th></th>\n",
       "      <th>gender</th>\n",
       "      <th>age</th>\n",
       "      <th>hypertension</th>\n",
       "      <th>heart_disease</th>\n",
       "      <th>ever_married</th>\n",
       "      <th>work_type</th>\n",
       "      <th>Residence_type</th>\n",
       "      <th>avg_glucose_level</th>\n",
       "      <th>bmi</th>\n",
       "      <th>smoking_status</th>\n",
       "      <th>apoplexy</th>\n",
       "    </tr>\n",
       "  </thead>\n",
       "  <tbody>\n",
       "    <tr>\n",
       "      <th>0</th>\n",
       "      <td>Male</td>\n",
       "      <td>0.938462</td>\n",
       "      <td>No</td>\n",
       "      <td>Yes</td>\n",
       "      <td>Yes</td>\n",
       "      <td>Private</td>\n",
       "      <td>Urban</td>\n",
       "      <td>0.061538</td>\n",
       "      <td>0.866044</td>\n",
       "      <td>formerly smoked</td>\n",
       "      <td>Yes</td>\n",
       "    </tr>\n",
       "    <tr>\n",
       "      <th>1</th>\n",
       "      <td>Female</td>\n",
       "      <td>0.938462</td>\n",
       "      <td>No</td>\n",
       "      <td>No</td>\n",
       "      <td>Yes</td>\n",
       "      <td>Self-employed</td>\n",
       "      <td>Rural</td>\n",
       "      <td>0.061538</td>\n",
       "      <td>0.866044</td>\n",
       "      <td>never smoked</td>\n",
       "      <td>Yes</td>\n",
       "    </tr>\n",
       "    <tr>\n",
       "      <th>2</th>\n",
       "      <td>Male</td>\n",
       "      <td>0.761538</td>\n",
       "      <td>No</td>\n",
       "      <td>Yes</td>\n",
       "      <td>Yes</td>\n",
       "      <td>Private</td>\n",
       "      <td>Rural</td>\n",
       "      <td>0.238462</td>\n",
       "      <td>0.966667</td>\n",
       "      <td>never smoked</td>\n",
       "      <td>Yes</td>\n",
       "    </tr>\n",
       "    <tr>\n",
       "      <th>3</th>\n",
       "      <td>Female</td>\n",
       "      <td>0.967280</td>\n",
       "      <td>No</td>\n",
       "      <td>No</td>\n",
       "      <td>Yes</td>\n",
       "      <td>Private</td>\n",
       "      <td>Urban</td>\n",
       "      <td>0.032720</td>\n",
       "      <td>0.866044</td>\n",
       "      <td>smokes</td>\n",
       "      <td>Yes</td>\n",
       "    </tr>\n",
       "    <tr>\n",
       "      <th>4</th>\n",
       "      <td>Female</td>\n",
       "      <td>0.799283</td>\n",
       "      <td>Yes</td>\n",
       "      <td>No</td>\n",
       "      <td>Yes</td>\n",
       "      <td>Self-employed</td>\n",
       "      <td>Rural</td>\n",
       "      <td>0.200717</td>\n",
       "      <td>0.866044</td>\n",
       "      <td>never smoked</td>\n",
       "      <td>Yes</td>\n",
       "    </tr>\n",
       "  </tbody>\n",
       "</table>\n",
       "</div>"
      ],
      "text/plain": [
       "   gender       age hypertension heart_disease ever_married      work_type  \\\n",
       "0    Male  0.938462           No           Yes          Yes        Private   \n",
       "1  Female  0.938462           No            No          Yes  Self-employed   \n",
       "2    Male  0.761538           No           Yes          Yes        Private   \n",
       "3  Female  0.967280           No            No          Yes        Private   \n",
       "4  Female  0.799283          Yes            No          Yes  Self-employed   \n",
       "\n",
       "  Residence_type  avg_glucose_level       bmi   smoking_status apoplexy  \n",
       "0          Urban           0.061538  0.866044  formerly smoked      Yes  \n",
       "1          Rural           0.061538  0.866044     never smoked      Yes  \n",
       "2          Rural           0.238462  0.966667     never smoked      Yes  \n",
       "3          Urban           0.032720  0.866044           smokes      Yes  \n",
       "4          Rural           0.200717  0.866044     never smoked      Yes  "
      ]
     },
     "execution_count": 19,
     "metadata": {},
     "output_type": "execute_result"
    }
   ],
   "source": [
    "dataset.head()"
   ]
  },
  {
   "cell_type": "code",
   "execution_count": 20,
   "id": "b8ba7321",
   "metadata": {},
   "outputs": [
    {
     "data": {
      "image/png": "[encoded data removed]",
      "text/plain": [
       "<Figure size 432x288 with 1 Axes>"
      ]
     },
     "metadata": {
      "needs_background": "light"
     },
     "output_type": "display_data"
    }
   ],
   "source": [
    "dataset[['age','avg_glucose_level','bmi']].boxplot()\n",
    "plt.show()"
   ]
  },
  {
   "cell_type": "code",
   "execution_count": 21,
   "id": "6d612af5",
   "metadata": {},
   "outputs": [
    {
     "data": {
      "text/plain": [
       "gender            3\n",
       "hypertension      2\n",
       "heart_disease     2\n",
       "ever_married      2\n",
       "work_type         5\n",
       "Residence_type    2\n",
       "smoking_status    4\n",
       "dtype: int64"
      ]
     },
     "execution_count": 21,
     "metadata": {},
     "output_type": "execute_result"
    }
   ],
   "source": [
    "dataset[['gender','hypertension','heart_disease','ever_married','work_type','Residence_type','smoking_status']].nunique()"
   ]
  },
  {
   "cell_type": "code",
   "execution_count": 22,
   "id": "c480fdb1",
   "metadata": {},
   "outputs": [],
   "source": [
    "x=dataset.iloc[:,:-1].values\n",
    "y=dataset.iloc[:,-1].values"
   ]
  },
  {
   "cell_type": "code",
   "execution_count": 23,
   "id": "5e96995a",
   "metadata": {},
   "outputs": [
    {
     "name": "stdout",
     "output_type": "stream",
     "text": [
      "        0\n",
      "0     Yes\n",
      "1     Yes\n",
      "2     Yes\n",
      "3     Yes\n",
      "4     Yes\n",
      "...   ...\n",
      "5105   No\n",
      "5106   No\n",
      "5107   No\n",
      "5108   No\n",
      "5109   No\n",
      "\n",
      "[5110 rows x 1 columns]\n"
     ]
    }
   ],
   "source": [
    "print(pd.DataFrame(y))"
   ]
  },
  {
   "cell_type": "code",
   "execution_count": 24,
   "id": "d914033e",
   "metadata": {},
   "outputs": [],
   "source": [
    "from sklearn.preprocessing import LabelEncoder\n",
    "le=LabelEncoder()\n",
    "y=le.fit_transform(y)"
   ]
  },
  {
   "cell_type": "code",
   "execution_count": 25,
   "id": "9a7c8435",
   "metadata": {},
   "outputs": [
    {
     "name": "stdout",
     "output_type": "stream",
     "text": [
      "      0\n",
      "0     1\n",
      "1     1\n",
      "2     1\n",
      "3     1\n",
      "4     1\n",
      "...  ..\n",
      "5105  0\n",
      "5106  0\n",
      "5107  0\n",
      "5108  0\n",
      "5109  0\n",
      "\n",
      "[5110 rows x 1 columns]\n"
     ]
    }
   ],
   "source": [
    "print(pd.DataFrame(y))"
   ]
  },
  {
   "cell_type": "code",
   "execution_count": 26,
   "id": "155736a0",
   "metadata": {},
   "outputs": [
    {
     "name": "stdout",
     "output_type": "stream",
     "text": [
      "           0         1    2    3    4              5      6         7  \\\n",
      "0       Male  0.938462   No  Yes  Yes        Private  Urban  0.061538   \n",
      "1     Female  0.938462   No   No  Yes  Self-employed  Rural  0.061538   \n",
      "2       Male  0.761538   No  Yes  Yes        Private  Rural  0.238462   \n",
      "3     Female   0.96728   No   No  Yes        Private  Urban   0.03272   \n",
      "4     Female  0.799283  Yes   No  Yes  Self-employed  Rural  0.200717   \n",
      "...      ...       ...  ...  ...  ...            ...    ...       ...   \n",
      "5105  Female  0.761538  Yes   No  Yes        Private  Urban  0.238462   \n",
      "5106  Female  0.761538   No   No  Yes  Self-employed  Urban  0.238462   \n",
      "5107  Female   0.99852   No   No  Yes  Self-employed  Rural   0.00148   \n",
      "5108    Male   0.96728   No   No  Yes        Private  Rural   0.03272   \n",
      "5109  Female  0.986166   No   No  Yes       Govt_job  Urban  0.013834   \n",
      "\n",
      "             8                9  \n",
      "0     0.866044  formerly smoked  \n",
      "1     0.866044     never smoked  \n",
      "2     0.966667     never smoked  \n",
      "3     0.866044           smokes  \n",
      "4     0.866044     never smoked  \n",
      "...        ...              ...  \n",
      "5105  0.966667     never smoked  \n",
      "5106  0.966667     never smoked  \n",
      "5107  0.966667     never smoked  \n",
      "5108  0.866044  formerly smoked  \n",
      "5109  0.966667          Unknown  \n",
      "\n",
      "[5110 rows x 10 columns]\n"
     ]
    }
   ],
   "source": [
    "print(pd.DataFrame(x))"
   ]
  },
  {
   "cell_type": "code",
   "execution_count": 27,
   "id": "061afd4c",
   "metadata": {},
   "outputs": [],
   "source": [
    "from sklearn.model_selection import train_test_split\n",
    "x_train,x_test,y_train,y_test=train_test_split(x,y,test_size=0.2,random_state=1)"
   ]
  },
  {
   "cell_type": "code",
   "execution_count": 28,
   "id": "e4b014fc",
   "metadata": {},
   "outputs": [
    {
     "data": {
      "text/html": [
       "<style>#sk-container-id-1 {color: black;background-color: white;}#sk-container-id-1 pre{padding: 0;}#sk-container-id-1 div.sk-toggleable {background-color: white;}#sk-container-id-1 label.sk-toggleable__label {cursor: pointer;display: block;width: 100%;margin-bottom: 0;padding: 0.3em;box-sizing: border-box;text-align: center;}#sk-container-id-1 label.sk-toggleable__label-arrow:before {content: \"▸\";float: left;margin-right: 0.25em;color: #696969;}#sk-container-id-1 label.sk-toggleable__label-arrow:hover:before {color: black;}#sk-container-id-1 div.sk-estimator:hover label.sk-toggleable__label-arrow:before {color: black;}#sk-container-id-1 div.sk-toggleable__content {max-height: 0;max-width: 0;overflow: hidden;text-align: left;background-color: #f0f8ff;}#sk-container-id-1 div.sk-toggleable__content pre {margin: 0.2em;color: black;border-radius: 0.25em;background-color: #f0f8ff;}#sk-container-id-1 input.sk-toggleable__control:checked~div.sk-toggleable__content {max-height: 200px;max-width: 100%;overflow: auto;}#sk-container-id-1 input.sk-toggleable__control:checked~label.sk-toggleable__label-arrow:before {content: \"▾\";}#sk-container-id-1 div.sk-estimator input.sk-toggleable__control:checked~label.sk-toggleable__label {background-color: #d4ebff;}#sk-container-id-1 div.sk-label input.sk-toggleable__control:checked~label.sk-toggleable__label {background-color: #d4ebff;}#sk-container-id-1 input.sk-hidden--visually {border: 0;clip: rect(1px 1px 1px 1px);clip: rect(1px, 1px, 1px, 1px);height: 1px;margin: -1px;overflow: hidden;padding: 0;position: absolute;width: 1px;}#sk-container-id-1 div.sk-estimator {font-family: monospace;background-color: #f0f8ff;border: 1px dotted black;border-radius: 0.25em;box-sizing: border-box;margin-bottom: 0.5em;}#sk-container-id-1 div.sk-estimator:hover {background-color: #d4ebff;}#sk-container-id-1 div.sk-parallel-item::after {content: \"\";width: 100%;border-bottom: 1px solid gray;flex-grow: 1;}#sk-container-id-1 div.sk-label:hover label.sk-toggleable__label {background-color: #d4ebff;}#sk-container-id-1 div.sk-serial::before {content: \"\";position: absolute;border-left: 1px solid gray;box-sizing: border-box;top: 0;bottom: 0;left: 50%;z-index: 0;}#sk-container-id-1 div.sk-serial {display: flex;flex-direction: column;align-items: center;background-color: white;padding-right: 0.2em;padding-left: 0.2em;position: relative;}#sk-container-id-1 div.sk-item {position: relative;z-index: 1;}#sk-container-id-1 div.sk-parallel {display: flex;align-items: stretch;justify-content: center;background-color: white;position: relative;}#sk-container-id-1 div.sk-item::before, #sk-container-id-1 div.sk-parallel-item::before {content: \"\";position: absolute;border-left: 1px solid gray;box-sizing: border-box;top: 0;bottom: 0;left: 50%;z-index: -1;}#sk-container-id-1 div.sk-parallel-item {display: flex;flex-direction: column;z-index: 1;position: relative;background-color: white;}#sk-container-id-1 div.sk-parallel-item:first-child::after {align-self: flex-end;width: 50%;}#sk-container-id-1 div.sk-parallel-item:last-child::after {align-self: flex-start;width: 50%;}#sk-container-id-1 div.sk-parallel-item:only-child::after {width: 0;}#sk-container-id-1 div.sk-dashed-wrapped {border: 1px dashed gray;margin: 0 0.4em 0.5em 0.4em;box-sizing: border-box;padding-bottom: 0.4em;background-color: white;}#sk-container-id-1 div.sk-label label {font-family: monospace;font-weight: bold;display: inline-block;line-height: 1.2em;}#sk-container-id-1 div.sk-label-container {text-align: center;}#sk-container-id-1 div.sk-container {/* jupyter's `normalize.less` sets `[hidden] { display: none; }` but bootstrap.min.css set `[hidden] { display: none !important; }` so we also need the `!important` here to be able to override the default hidden behavior on the sphinx rendered scikit-learn.org. See: https://github.com/scikit-learn/scikit-learn/issues/21755 */display: inline-block !important;position: relative;}#sk-container-id-1 div.sk-text-repr-fallback {display: none;}</style><div id=\"sk-container-id-1\" class=\"sk-top-container\"><div class=\"sk-text-repr-fallback\"><pre>WOEEncoder(cols=[0, 2, 3, 4, 5, 6, 9])</pre><b>In a Jupyter environment, please rerun this cell to show the HTML representation or trust the notebook. <br />On GitHub, the HTML representation is unable to render, please try loading this page with nbviewer.org.</b></div><div class=\"sk-container\" hidden><div class=\"sk-item\"><div class=\"sk-estimator sk-toggleable\"><input class=\"sk-toggleable__control sk-hidden--visually\" id=\"sk-estimator-id-1\" type=\"checkbox\" checked><label for=\"sk-estimator-id-1\" class=\"sk-toggleable__label sk-toggleable__label-arrow\">WOEEncoder</label><div class=\"sk-toggleable__content\"><pre>WOEEncoder(cols=[0, 2, 3, 4, 5, 6, 9])</pre></div></div></div></div></div>"
      ],
      "text/plain": [
       "WOEEncoder(cols=[0, 2, 3, 4, 5, 6, 9])"
      ]
     },
     "execution_count": 28,
     "metadata": {},
     "output_type": "execute_result"
    }
   ],
   "source": [
    "from category_encoders.woe import WOEEncoder\n",
    "woe_enc=WOEEncoder(cols=[0,2,3,4,5,6,9])\n",
    "woe_enc.fit(x_train,y_train)"
   ]
  },
  {
   "cell_type": "code",
   "execution_count": 29,
   "id": "18501a03",
   "metadata": {},
   "outputs": [],
   "source": [
    "x_train=woe_enc.transform(x_train)\n",
    "x_test=woe_enc.transform(x_test)"
   ]
  },
  {
   "cell_type": "code",
   "execution_count": 30,
   "id": "3efd157b",
   "metadata": {},
   "outputs": [
    {
     "name": "stdout",
     "output_type": "stream",
     "text": [
      "             0         1         2         3         4         5         6  \\\n",
      "0    -0.051950   0.96875 -0.217472 -0.166197  0.276865  0.491803 -0.092139   \n",
      "1    -0.051950   0.96875 -0.217472 -0.166197  0.276865  0.024991  0.082351   \n",
      "2     0.035875   0.99852 -0.217472 -0.166197  0.276865  0.068653 -0.092139   \n",
      "3    -0.051950  0.761538 -0.217472 -0.166197  0.276865  0.068653 -0.092139   \n",
      "4     0.035875  0.938462 -0.217472 -0.166197  0.276865  0.068653  0.082351   \n",
      "...        ...       ...       ...       ...       ...       ...       ...   \n",
      "4083 -0.051950  0.977477 -0.217472 -0.166197  0.276865  0.068653  0.082351   \n",
      "4084  0.035875  0.977477 -0.217472 -0.166197  0.276865  0.068653 -0.092139   \n",
      "4085  0.035875   0.99852 -0.217472 -0.166197  0.276865  0.068653 -0.092139   \n",
      "4086  0.035875  0.977477 -0.217472 -0.166197  0.276865  0.068653 -0.092139   \n",
      "4087  0.035875  0.808511 -0.217472 -0.166197  0.276865  0.068653 -0.092139   \n",
      "\n",
      "             7         8         9  \n",
      "0      0.03125  0.955224  0.020983  \n",
      "1      0.03125  0.866044  0.030051  \n",
      "2      0.00148  0.866044  0.030051  \n",
      "3     0.238462  0.991736  0.030051  \n",
      "4     0.061538  0.966667  0.030051  \n",
      "...        ...       ...       ...  \n",
      "4083  0.022523  0.966667  0.030051  \n",
      "4084  0.022523  0.955224 -0.421400  \n",
      "4085   0.00148   0.90625  0.030051  \n",
      "4086  0.022523  0.866044  0.020983  \n",
      "4087  0.191489  0.866044 -0.421400  \n",
      "\n",
      "[4088 rows x 10 columns]\n"
     ]
    }
   ],
   "source": [
    "print(pd.DataFrame(x_train))"
   ]
  },
  {
   "cell_type": "code",
   "execution_count": 31,
   "id": "b9bd2455",
   "metadata": {},
   "outputs": [
    {
     "name": "stdout",
     "output_type": "stream",
     "text": [
      "      0\n",
      "0     0\n",
      "1     0\n",
      "2     0\n",
      "3     0\n",
      "4     0\n",
      "...  ..\n",
      "4083  0\n",
      "4084  0\n",
      "4085  0\n",
      "4086  0\n",
      "4087  1\n",
      "\n",
      "[4088 rows x 1 columns]\n"
     ]
    }
   ],
   "source": [
    "print(pd.DataFrame(y_train))"
   ]
  },
  {
   "cell_type": "code",
   "execution_count": 32,
   "id": "9af086e2",
   "metadata": {},
   "outputs": [],
   "source": [
    "from imblearn.over_sampling import SMOTE\n",
    "sm=SMOTE()"
   ]
  },
  {
   "cell_type": "code",
   "execution_count": 33,
   "id": "fed51b9b",
   "metadata": {},
   "outputs": [],
   "source": [
    "x_train,y_train=sm.fit_resample(x_train,y_train)"
   ]
  },
  {
   "cell_type": "code",
   "execution_count": 34,
   "id": "5a09159b",
   "metadata": {},
   "outputs": [
    {
     "name": "stdout",
     "output_type": "stream",
     "text": [
      "      0\n",
      "0     0\n",
      "1     0\n",
      "2     0\n",
      "3     0\n",
      "4     0\n",
      "...  ..\n",
      "7793  1\n",
      "7794  1\n",
      "7795  1\n",
      "7796  1\n",
      "7797  1\n",
      "\n",
      "[7798 rows x 1 columns]\n"
     ]
    }
   ],
   "source": [
    "print(pd.DataFrame(y_train))"
   ]
  },
  {
   "cell_type": "code",
   "execution_count": 35,
   "id": "811d6ea5",
   "metadata": {},
   "outputs": [
    {
     "name": "stdout",
     "output_type": "stream",
     "text": [
      "      0\n",
      "0     0\n",
      "1     0\n",
      "2     0\n",
      "3     0\n",
      "4     0\n",
      "...  ..\n",
      "1017  0\n",
      "1018  0\n",
      "1019  0\n",
      "1020  0\n",
      "1021  0\n",
      "\n",
      "[1022 rows x 1 columns]\n"
     ]
    }
   ],
   "source": [
    "print(pd.DataFrame(y_test))"
   ]
  },
  {
   "cell_type": "code",
   "execution_count": 36,
   "id": "6a8a030d",
   "metadata": {},
   "outputs": [
    {
     "data": {
      "text/plain": [
       "<matplotlib.legend.Legend at 0x24c24c77d60>"
      ]
     },
     "execution_count": 36,
     "metadata": {},
     "output_type": "execute_result"
    },
    {
     "data": {
      "image/png": "[encoded data removed]",
      "text/plain": [
       "<Figure size 360x360 with 1 Axes>"
      ]
     },
     "metadata": {
      "needs_background": "light"
     },
     "output_type": "display_data"
    }
   ],
   "source": [
    "fig,ax5=plt.subplots(figsize=(5,5))\n",
    "pd.DataFrame(x_train).plot(kind='kde', ax=ax5)\n",
    "ax5.set_title('Before scaling')\n",
    "lines5, labels5 = ax5.get_legend_handles_labels()\n",
    "ax5.legend(lines5, labels5, loc='best')"
   ]
  },
  {
   "cell_type": "code",
   "execution_count": 37,
   "id": "45a3945b",
   "metadata": {},
   "outputs": [],
   "source": [
    "from sklearn.preprocessing import StandardScaler\n",
    "sc=StandardScaler()\n",
    "x_train_scaled=sc.fit_transform(x_train)\n",
    "x_test_scaled=sc.transform(x_test)"
   ]
  },
  {
   "cell_type": "code",
   "execution_count": 38,
   "id": "37f87ce2",
   "metadata": {},
   "outputs": [
    {
     "data": {
      "text/plain": [
       "<matplotlib.legend.Legend at 0x24c24de40a0>"
      ]
     },
     "execution_count": 38,
     "metadata": {},
     "output_type": "execute_result"
    },
    {
     "data": {
      "image/png": "[encoded data removed]",
      "text/plain": [
       "<Figure size 360x360 with 1 Axes>"
      ]
     },
     "metadata": {
      "needs_background": "light"
     },
     "output_type": "display_data"
    }
   ],
   "source": [
    "fig,ax6=plt.subplots(figsize=(5,5))\n",
    "pd.DataFrame(x_train_scaled).plot(kind='kde', ax=ax6)\n",
    "ax5.set_title('After scaling')\n",
    "lines6, labels6 = ax6.get_legend_handles_labels()\n",
    "ax6.legend(lines6, labels6, loc='best')"
   ]
  },
  {
   "cell_type": "code",
   "execution_count": 39,
   "id": "cb657062",
   "metadata": {},
   "outputs": [
    {
     "name": "stdout",
     "output_type": "stream",
     "text": [
      "             0         1         2         3         4         5         6  \\\n",
      "0    -1.299564  0.741266 -0.467169 -0.370448  0.569955  0.802626 -1.106274   \n",
      "1    -1.299564  0.741266 -0.467169 -0.370448  0.569955  0.075436  0.967303   \n",
      "2     0.891639  1.122275 -0.467169 -0.370448  0.569955  0.143452 -1.106274   \n",
      "3    -1.299564 -1.910715 -0.467169 -0.370448  0.569955  0.143452 -1.106274   \n",
      "4     0.891639  0.353621 -0.467169 -0.370448  0.569955  0.143452  0.967303   \n",
      "...        ...       ...       ...       ...       ...       ...       ...   \n",
      "7793  0.486341 -0.228162 -0.467169 -0.370448  0.569955  0.143452  0.967303   \n",
      "7794 -0.406546 -0.441483 -0.467169 -0.370448  0.569955  0.802626 -1.106274   \n",
      "7795 -1.224555 -0.251949  2.140552 -0.370448  0.569955  0.143452  0.967303   \n",
      "7796  0.891639  0.280563 -0.467169 -0.370448  0.569955  0.079328 -1.106274   \n",
      "7797  0.891639  0.430004  2.140552 -0.370448  0.569955  0.143452 -0.255337   \n",
      "\n",
      "             7         8         9  \n",
      "0    -0.741266  0.287798  0.016407  \n",
      "1    -0.741266 -0.998468  0.046539  \n",
      "2    -1.122275 -0.998468  0.046539  \n",
      "3     1.910715  0.814414  0.046539  \n",
      "4    -0.353621  0.452840  0.046539  \n",
      "...        ...       ...       ...  \n",
      "7793  0.228162  0.452840  1.517249  \n",
      "7794  0.441483 -0.236416  0.034259  \n",
      "7795  0.251949 -0.954437  0.017438  \n",
      "7796 -0.280563  0.369788 -1.453441  \n",
      "7797 -0.430004 -0.240049  0.028772  \n",
      "\n",
      "[7798 rows x 10 columns]\n"
     ]
    }
   ],
   "source": [
    "print(pd.DataFrame(x_train_scaled))"
   ]
  },
  {
   "cell_type": "code",
   "execution_count": 40,
   "id": "d5aa52f5",
   "metadata": {},
   "outputs": [
    {
     "data": {
      "text/html": [
       "<style>#sk-container-id-2 {color: black;background-color: white;}#sk-container-id-2 pre{padding: 0;}#sk-container-id-2 div.sk-toggleable {background-color: white;}#sk-container-id-2 label.sk-toggleable__label {cursor: pointer;display: block;width: 100%;margin-bottom: 0;padding: 0.3em;box-sizing: border-box;text-align: center;}#sk-container-id-2 label.sk-toggleable__label-arrow:before {content: \"▸\";float: left;margin-right: 0.25em;color: #696969;}#sk-container-id-2 label.sk-toggleable__label-arrow:hover:before {color: black;}#sk-container-id-2 div.sk-estimator:hover label.sk-toggleable__label-arrow:before {color: black;}#sk-container-id-2 div.sk-toggleable__content {max-height: 0;max-width: 0;overflow: hidden;text-align: left;background-color: #f0f8ff;}#sk-container-id-2 div.sk-toggleable__content pre {margin: 0.2em;color: black;border-radius: 0.25em;background-color: #f0f8ff;}#sk-container-id-2 input.sk-toggleable__control:checked~div.sk-toggleable__content {max-height: 200px;max-width: 100%;overflow: auto;}#sk-container-id-2 input.sk-toggleable__control:checked~label.sk-toggleable__label-arrow:before {content: \"▾\";}#sk-container-id-2 div.sk-estimator input.sk-toggleable__control:checked~label.sk-toggleable__label {background-color: #d4ebff;}#sk-container-id-2 div.sk-label input.sk-toggleable__control:checked~label.sk-toggleable__label {background-color: #d4ebff;}#sk-container-id-2 input.sk-hidden--visually {border: 0;clip: rect(1px 1px 1px 1px);clip: rect(1px, 1px, 1px, 1px);height: 1px;margin: -1px;overflow: hidden;padding: 0;position: absolute;width: 1px;}#sk-container-id-2 div.sk-estimator {font-family: monospace;background-color: #f0f8ff;border: 1px dotted black;border-radius: 0.25em;box-sizing: border-box;margin-bottom: 0.5em;}#sk-container-id-2 div.sk-estimator:hover {background-color: #d4ebff;}#sk-container-id-2 div.sk-parallel-item::after {content: \"\";width: 100%;border-bottom: 1px solid gray;flex-grow: 1;}#sk-container-id-2 div.sk-label:hover label.sk-toggleable__label {background-color: #d4ebff;}#sk-container-id-2 div.sk-serial::before {content: \"\";position: absolute;border-left: 1px solid gray;box-sizing: border-box;top: 0;bottom: 0;left: 50%;z-index: 0;}#sk-container-id-2 div.sk-serial {display: flex;flex-direction: column;align-items: center;background-color: white;padding-right: 0.2em;padding-left: 0.2em;position: relative;}#sk-container-id-2 div.sk-item {position: relative;z-index: 1;}#sk-container-id-2 div.sk-parallel {display: flex;align-items: stretch;justify-content: center;background-color: white;position: relative;}#sk-container-id-2 div.sk-item::before, #sk-container-id-2 div.sk-parallel-item::before {content: \"\";position: absolute;border-left: 1px solid gray;box-sizing: border-box;top: 0;bottom: 0;left: 50%;z-index: -1;}#sk-container-id-2 div.sk-parallel-item {display: flex;flex-direction: column;z-index: 1;position: relative;background-color: white;}#sk-container-id-2 div.sk-parallel-item:first-child::after {align-self: flex-end;width: 50%;}#sk-container-id-2 div.sk-parallel-item:last-child::after {align-self: flex-start;width: 50%;}#sk-container-id-2 div.sk-parallel-item:only-child::after {width: 0;}#sk-container-id-2 div.sk-dashed-wrapped {border: 1px dashed gray;margin: 0 0.4em 0.5em 0.4em;box-sizing: border-box;padding-bottom: 0.4em;background-color: white;}#sk-container-id-2 div.sk-label label {font-family: monospace;font-weight: bold;display: inline-block;line-height: 1.2em;}#sk-container-id-2 div.sk-label-container {text-align: center;}#sk-container-id-2 div.sk-container {/* jupyter's `normalize.less` sets `[hidden] { display: none; }` but bootstrap.min.css set `[hidden] { display: none !important; }` so we also need the `!important` here to be able to override the default hidden behavior on the sphinx rendered scikit-learn.org. See: https://github.com/scikit-learn/scikit-learn/issues/21755 */display: inline-block !important;position: relative;}#sk-container-id-2 div.sk-text-repr-fallback {display: none;}</style><div id=\"sk-container-id-2\" class=\"sk-top-container\"><div class=\"sk-text-repr-fallback\"><pre>KNeighborsClassifier(n_neighbors=100)</pre><b>In a Jupyter environment, please rerun this cell to show the HTML representation or trust the notebook. <br />On GitHub, the HTML representation is unable to render, please try loading this page with nbviewer.org.</b></div><div class=\"sk-container\" hidden><div class=\"sk-item\"><div class=\"sk-estimator sk-toggleable\"><input class=\"sk-toggleable__control sk-hidden--visually\" id=\"sk-estimator-id-2\" type=\"checkbox\" checked><label for=\"sk-estimator-id-2\" class=\"sk-toggleable__label sk-toggleable__label-arrow\">KNeighborsClassifier</label><div class=\"sk-toggleable__content\"><pre>KNeighborsClassifier(n_neighbors=100)</pre></div></div></div></div></div>"
      ],
      "text/plain": [
       "KNeighborsClassifier(n_neighbors=100)"
      ]
     },
     "execution_count": 40,
     "metadata": {},
     "output_type": "execute_result"
    }
   ],
   "source": [
    "from sklearn.neighbors import KNeighborsClassifier\n",
    "classifier = KNeighborsClassifier(n_neighbors=100)\n",
    "classifier.fit(x_train_scaled,y_train)"
   ]
  },
  {
   "cell_type": "code",
   "execution_count": 41,
   "id": "5508347b",
   "metadata": {},
   "outputs": [
    {
     "name": "stdout",
     "output_type": "stream",
     "text": [
      "[[727 235]\n",
      " [  8  52]]\n"
     ]
    },
    {
     "data": {
      "text/plain": [
       "0.7622309197651663"
      ]
     },
     "execution_count": 41,
     "metadata": {},
     "output_type": "execute_result"
    }
   ],
   "source": [
    "y_pred=classifier.predict(x_test_scaled)\n",
    "from sklearn.metrics import confusion_matrix, accuracy_score\n",
    "cm=confusion_matrix(y_test, y_pred)\n",
    "print(cm)\n",
    "accuracy_score(y_test, y_pred)"
   ]
  },
  {
   "cell_type": "code",
   "execution_count": 42,
   "id": "48c1c41e",
   "metadata": {
    "scrolled": true
   },
   "outputs": [
    {
     "name": "stdout",
     "output_type": "stream",
     "text": [
      "[[0 0]\n",
      " [1 0]\n",
      " [0 0]\n",
      " ...\n",
      " [0 0]\n",
      " [0 0]\n",
      " [1 0]]\n"
     ]
    }
   ],
   "source": [
    "print(np.concatenate((y_pred.reshape(len(y_pred),1),y_test.reshape(len(y_test),1)),1))"
   ]
  },
  {
   "cell_type": "code",
   "execution_count": 43,
   "id": "7e717e45",
   "metadata": {},
   "outputs": [
    {
     "name": "stdout",
     "output_type": "stream",
     "text": [
      "     0\n",
      "0  735\n",
      "1  287\n"
     ]
    }
   ],
   "source": [
    "print(pd.DataFrame(y_pred).apply(pd.value_counts))"
   ]
  },
  {
   "cell_type": "code",
   "execution_count": 44,
   "id": "eea970ba",
   "metadata": {},
   "outputs": [
    {
     "name": "stdout",
     "output_type": "stream",
     "text": [
      "     0\n",
      "0  962\n",
      "1   60\n"
     ]
    }
   ],
   "source": [
    "print(pd.DataFrame(y_test).apply(pd.value_counts))"
   ]
  },
  {
   "cell_type": "code",
   "execution_count": 45,
   "id": "147e2e21",
   "metadata": {},
   "outputs": [
    {
     "name": "stdout",
     "output_type": "stream",
     "text": [
      "Accuracy: 80.80%\n",
      "Standard Deviation: 1.50%\n",
      "Precision: 18.12%\n",
      "f1_score: 0.30\n",
      "recall_score: 0.87\n",
      "roc_auc_score: 81.12%\n",
      "              precision    recall  f1-score   support\n",
      "\n",
      "           0       0.99      0.76      0.86       962\n",
      "           1       0.18      0.87      0.30        60\n",
      "\n",
      "    accuracy                           0.76      1022\n",
      "   macro avg       0.59      0.81      0.58      1022\n",
      "weighted avg       0.94      0.76      0.82      1022\n",
      "\n"
     ]
    }
   ],
   "source": [
    "from sklearn.model_selection import cross_val_score\n",
    "from sklearn.metrics import precision_score,f1_score,recall_score,roc_auc_score,classification_report\n",
    "accuracies = cross_val_score(estimator = classifier,X=x_train_scaled,y=y_train,cv=10)\n",
    "Precision = precision_score(y_true=y_test,y_pred=y_pred)\n",
    "f1_score = f1_score(y_true=y_test,y_pred=y_pred)\n",
    "recall_score = recall_score(y_true=y_test,y_pred=y_pred)\n",
    "roc_auc_score = roc_auc_score(y_true=y_test,y_score=y_pred)\n",
    "\n",
    "print(\"Accuracy: {:.2f}%\".format(accuracies.mean()*100))\n",
    "print(\"Standard Deviation: {:.2f}%\".format(accuracies.std()*100))\n",
    "print(\"Precision: {:.2f}%\".format(Precision.mean()*100))\n",
    "print(\"f1_score: {:.2f}\".format(f1_score))\n",
    "print(\"recall_score: {:.2f}\".format(recall_score))\n",
    "print(\"roc_auc_score: {:.2f}%\".format(roc_auc_score.mean()*100))\n",
    "print(classification_report(y_true=y_test,y_pred=y_pred))"
   ]
  },
  {
   "cell_type": "code",
   "execution_count": 54,
   "id": "30ffa270",
   "metadata": {},
   "outputs": [
    {
     "name": "stdout",
     "output_type": "stream",
     "text": [
      "Best Accuracy: 91.58%\n",
      "Best Accuracy:  {'algorithm': 'auto', 'n_neighbors': 50, 'weights': 'distance'}\n"
     ]
    }
   ],
   "source": [
    "from sklearn.model_selection import GridSearchCV\n",
    "parameters=[{'n_neighbors':[50,60,70,80,90,100,120,140,160,170],'algorithm':['auto','ball_tree','kd_tree','brute'],'weights':['uniform','distance']}]\n",
    "grid_search=GridSearchCV(estimator=classifier,param_grid=parameters,scoring='accuracy',cv=10,n_jobs=-1)\n",
    "grid_search.fit(x_train_scaled,y_train)\n",
    "best_accuracy=grid_search.best_score_\n",
    "best_parameters=grid_search.best_params_\n",
    "print(\"Best Accuracy: {:.2f}%\".format(best_accuracy*100))\n",
    "print(\"Best Accuracy: \",best_parameters)"
   ]
  },
  {
   "cell_type": "code",
   "execution_count": 46,
   "id": "bbed113d",
   "metadata": {},
   "outputs": [
    {
     "data": {
      "image/png": "[encoded data removed]",
      "text/plain": [
       "<Figure size 432x288 with 1 Axes>"
      ]
     },
     "metadata": {
      "needs_background": "light"
     },
     "output_type": "display_data"
    }
   ],
   "source": [
    "from sklearn import metrics\n",
    "fpr,tpr,thresholds=metrics.roc_curve(y_test,y_pred, pos_label=1)\n",
    "roc_auc = metrics.auc(fpr,tpr)\n",
    "display = metrics.RocCurveDisplay(fpr=fpr,tpr=tpr,roc_auc=roc_auc)\n",
    "display.plot()\n",
    "plt.show()"
   ]
  },
  {
   "cell_type": "code",
   "execution_count": null,
   "id": "34f7971f",
   "metadata": {},
   "outputs": [],
   "source": []
  }
 ],
 "metadata": {
  "kernelspec": {
   "display_name": "Python 3 (ipykernel)",
   "language": "python",
   "name": "python3"
  },
  "language_info": {
   "codemirror_mode": {
    "name": "ipython",
    "version": 3
   },
   "file_extension": ".py",
   "mimetype": "text/x-python",
   "name": "python",
   "nbconvert_exporter": "python",
   "pygments_lexer": "ipython3",
   "version": "3.9.12"
  }
 },
 "nbformat": 4,
 "nbformat_minor": 5
}
