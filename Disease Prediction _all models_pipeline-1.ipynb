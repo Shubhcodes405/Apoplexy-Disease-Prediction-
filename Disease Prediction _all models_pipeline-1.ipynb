{
 "cells": [
  {
   "cell_type": "markdown",
   "id": "3619d487",
   "metadata": {},
   "source": [
    "Methods used-\n",
    "\n",
    "1. Mean for missing data.\n",
    "2. Equal Width discretization for continuous variables.\n",
    "3. IQR for outlier.\n",
    "4. Ordinal method for categorical encoding.\n",
    "5. Standardscaler for feature scaling.\n",
    "\n",
    "\n",
    "All methods and all different models are used in pipeline with column transformer at the down side of notebook, after the graphs and behavior of features with the respective preprocessing methods.\n",
    "\n",
    "Conclusion-\n",
    "\n",
    "1. Decision trees slightly predicts good number of true negatives as compared to random forest but more false positives as well.\n",
    "2. Naive bayes works slightly better with true positives but an increase in false positives.\n",
    "3. KNN, Logistic regression and SVM does not predicts true positives at all.\n",
    "4. Decision trees and random forest works slightly better without outlier handling."
   ]
  },
  {
   "cell_type": "code",
   "execution_count": 1,
   "id": "3bb71167",
   "metadata": {},
   "outputs": [],
   "source": [
    "import numpy as np\n",
    "import pandas as pd\n",
    "import matplotlib.pyplot as plt"
   ]
  },
  {
   "cell_type": "code",
   "execution_count": 2,
   "id": "8006b8db",
   "metadata": {},
   "outputs": [
    {
     "name": "stdout",
     "output_type": "stream",
     "text": [
      "<class 'pandas.core.frame.DataFrame'>\n",
      "RangeIndex: 5110 entries, 0 to 5109\n",
      "Data columns (total 11 columns):\n",
      " #   Column             Non-Null Count  Dtype  \n",
      "---  ------             --------------  -----  \n",
      " 0   gender             5110 non-null   object \n",
      " 1   age                5110 non-null   float64\n",
      " 2   hypertension       5110 non-null   object \n",
      " 3   heart_disease      5110 non-null   object \n",
      " 4   ever_married       5110 non-null   object \n",
      " 5   work_type          5110 non-null   object \n",
      " 6   Residence_type     5110 non-null   object \n",
      " 7   avg_glucose_level  5110 non-null   float64\n",
      " 8   bmi                4909 non-null   float64\n",
      " 9   smoking_status     5110 non-null   object \n",
      " 10  apoplexy           5110 non-null   object \n",
      "dtypes: float64(3), object(8)\n",
      "memory usage: 439.3+ KB\n"
     ]
    }
   ],
   "source": [
    "dataset1 = pd.read_csv('Disease Prediction Data.csv')\n",
    "dataset1=dataset1.drop('id',axis=1)\n",
    "dataset1.info()"
   ]
  },
  {
   "cell_type": "code",
   "execution_count": 3,
   "id": "740417b5",
   "metadata": {},
   "outputs": [
    {
     "name": "stdout",
     "output_type": "stream",
     "text": [
      "(5110, 11)\n"
     ]
    },
    {
     "data": {
      "text/html": [
       "<div>\n",
       "<style scoped>\n",
       "    .dataframe tbody tr th:only-of-type {\n",
       "        vertical-align: middle;\n",
       "    }\n",
       "\n",
       "    .dataframe tbody tr th {\n",
       "        vertical-align: top;\n",
       "    }\n",
       "\n",
       "    .dataframe thead th {\n",
       "        text-align: right;\n",
       "    }\n",
       "</style>\n",
       "<table border=\"1\" class=\"dataframe\">\n",
       "  <thead>\n",
       "    <tr style=\"text-align: right;\">\n",
       "      <th></th>\n",
       "      <th>gender</th>\n",
       "      <th>age</th>\n",
       "      <th>hypertension</th>\n",
       "      <th>heart_disease</th>\n",
       "      <th>ever_married</th>\n",
       "      <th>work_type</th>\n",
       "      <th>Residence_type</th>\n",
       "      <th>avg_glucose_level</th>\n",
       "      <th>bmi</th>\n",
       "      <th>smoking_status</th>\n",
       "      <th>apoplexy</th>\n",
       "    </tr>\n",
       "  </thead>\n",
       "  <tbody>\n",
       "    <tr>\n",
       "      <th>0</th>\n",
       "      <td>Male</td>\n",
       "      <td>67.0</td>\n",
       "      <td>No</td>\n",
       "      <td>Yes</td>\n",
       "      <td>Yes</td>\n",
       "      <td>Private</td>\n",
       "      <td>Urban</td>\n",
       "      <td>228.69</td>\n",
       "      <td>36.6</td>\n",
       "      <td>formerly smoked</td>\n",
       "      <td>Yes</td>\n",
       "    </tr>\n",
       "    <tr>\n",
       "      <th>1</th>\n",
       "      <td>Female</td>\n",
       "      <td>61.0</td>\n",
       "      <td>No</td>\n",
       "      <td>No</td>\n",
       "      <td>Yes</td>\n",
       "      <td>Self-employed</td>\n",
       "      <td>Rural</td>\n",
       "      <td>202.21</td>\n",
       "      <td>NaN</td>\n",
       "      <td>never smoked</td>\n",
       "      <td>Yes</td>\n",
       "    </tr>\n",
       "    <tr>\n",
       "      <th>2</th>\n",
       "      <td>Male</td>\n",
       "      <td>80.0</td>\n",
       "      <td>No</td>\n",
       "      <td>Yes</td>\n",
       "      <td>Yes</td>\n",
       "      <td>Private</td>\n",
       "      <td>Rural</td>\n",
       "      <td>105.92</td>\n",
       "      <td>32.5</td>\n",
       "      <td>never smoked</td>\n",
       "      <td>Yes</td>\n",
       "    </tr>\n",
       "    <tr>\n",
       "      <th>3</th>\n",
       "      <td>Female</td>\n",
       "      <td>49.0</td>\n",
       "      <td>No</td>\n",
       "      <td>No</td>\n",
       "      <td>Yes</td>\n",
       "      <td>Private</td>\n",
       "      <td>Urban</td>\n",
       "      <td>171.23</td>\n",
       "      <td>34.4</td>\n",
       "      <td>smokes</td>\n",
       "      <td>Yes</td>\n",
       "    </tr>\n",
       "    <tr>\n",
       "      <th>4</th>\n",
       "      <td>Female</td>\n",
       "      <td>79.0</td>\n",
       "      <td>Yes</td>\n",
       "      <td>No</td>\n",
       "      <td>Yes</td>\n",
       "      <td>Self-employed</td>\n",
       "      <td>Rural</td>\n",
       "      <td>174.12</td>\n",
       "      <td>24.0</td>\n",
       "      <td>never smoked</td>\n",
       "      <td>Yes</td>\n",
       "    </tr>\n",
       "  </tbody>\n",
       "</table>\n",
       "</div>"
      ],
      "text/plain": [
       "   gender   age hypertension heart_disease ever_married      work_type  \\\n",
       "0    Male  67.0           No           Yes          Yes        Private   \n",
       "1  Female  61.0           No            No          Yes  Self-employed   \n",
       "2    Male  80.0           No           Yes          Yes        Private   \n",
       "3  Female  49.0           No            No          Yes        Private   \n",
       "4  Female  79.0          Yes            No          Yes  Self-employed   \n",
       "\n",
       "  Residence_type  avg_glucose_level   bmi   smoking_status apoplexy  \n",
       "0          Urban             228.69  36.6  formerly smoked      Yes  \n",
       "1          Rural             202.21   NaN     never smoked      Yes  \n",
       "2          Rural             105.92  32.5     never smoked      Yes  \n",
       "3          Urban             171.23  34.4           smokes      Yes  \n",
       "4          Rural             174.12  24.0     never smoked      Yes  "
      ]
     },
     "execution_count": 3,
     "metadata": {},
     "output_type": "execute_result"
    }
   ],
   "source": [
    "print(dataset1.shape)\n",
    "dataset1.head()"
   ]
  },
  {
   "cell_type": "code",
   "execution_count": 4,
   "id": "d175f6e8",
   "metadata": {},
   "outputs": [
    {
     "data": {
      "text/plain": [
       "gender               0.000000\n",
       "age                  0.000000\n",
       "hypertension         0.000000\n",
       "heart_disease        0.000000\n",
       "ever_married         0.000000\n",
       "work_type            0.000000\n",
       "Residence_type       0.000000\n",
       "avg_glucose_level    0.000000\n",
       "bmi                  0.039335\n",
       "smoking_status       0.000000\n",
       "apoplexy             0.000000\n",
       "dtype: float64"
      ]
     },
     "execution_count": 4,
     "metadata": {},
     "output_type": "execute_result"
    }
   ],
   "source": [
    "dataset1.isnull().mean()"
   ]
  },
  {
   "cell_type": "code",
   "execution_count": 5,
   "id": "5f4e44e3",
   "metadata": {},
   "outputs": [
    {
     "data": {
      "text/plain": [
       "['bmi']"
      ]
     },
     "execution_count": 5,
     "metadata": {},
     "output_type": "execute_result"
    }
   ],
   "source": [
    "vars_with_na=[var for var in dataset1.columns if dataset1[var].isnull().mean()>0]\n",
    "vars_with_na"
   ]
  },
  {
   "cell_type": "code",
   "execution_count": 6,
   "id": "757c38db",
   "metadata": {},
   "outputs": [
    {
     "data": {
      "text/plain": [
       "<matplotlib.legend.Legend at 0x2eb1b1d6220>"
      ]
     },
     "execution_count": 6,
     "metadata": {},
     "output_type": "execute_result"
    },
    {
     "data": {
      "image/png": "[encoded data removed]",
      "text/plain": [
       "<Figure size 432x288 with 1 Axes>"
      ]
     },
     "metadata": {
      "needs_background": "light"
     },
     "output_type": "display_data"
    }
   ],
   "source": [
    "bmi_check=pd.DataFrame()\n",
    "from sklearn.impute import SimpleImputer\n",
    "imputer = SimpleImputer(strategy='mean')\n",
    "\n",
    "bmi_check['bmi']=dataset1['bmi']\n",
    "bmi_check['bmi_mean']=imputer.fit_transform(dataset1[['bmi']])\n",
    "\n",
    "fig_median=plt.figure()\n",
    "ax1=fig_median.add_subplot(111)\n",
    "\n",
    "bmi_check['bmi'].plot(kind='kde', ax=ax1, color='blue')\n",
    "bmi_check['bmi_mean'].plot(kind='kde', ax=ax1, color='red')\n",
    "\n",
    "\n",
    "lines1, labels1 = ax1.get_legend_handles_labels()\n",
    "ax1.legend(lines1, labels1, loc='best')"
   ]
  },
  {
   "cell_type": "code",
   "execution_count": 7,
   "id": "b5bd131a",
   "metadata": {},
   "outputs": [],
   "source": [
    "imputer = SimpleImputer(strategy='mean')\n",
    "dataset1['bmi']=imputer.fit_transform(dataset1[['bmi']])"
   ]
  },
  {
   "cell_type": "code",
   "execution_count": 8,
   "id": "6289632c",
   "metadata": {},
   "outputs": [
    {
     "data": {
      "text/html": [
       "<div>\n",
       "<style scoped>\n",
       "    .dataframe tbody tr th:only-of-type {\n",
       "        vertical-align: middle;\n",
       "    }\n",
       "\n",
       "    .dataframe tbody tr th {\n",
       "        vertical-align: top;\n",
       "    }\n",
       "\n",
       "    .dataframe thead th {\n",
       "        text-align: right;\n",
       "    }\n",
       "</style>\n",
       "<table border=\"1\" class=\"dataframe\">\n",
       "  <thead>\n",
       "    <tr style=\"text-align: right;\">\n",
       "      <th></th>\n",
       "      <th>gender</th>\n",
       "      <th>age</th>\n",
       "      <th>hypertension</th>\n",
       "      <th>heart_disease</th>\n",
       "      <th>ever_married</th>\n",
       "      <th>work_type</th>\n",
       "      <th>Residence_type</th>\n",
       "      <th>avg_glucose_level</th>\n",
       "      <th>bmi</th>\n",
       "      <th>smoking_status</th>\n",
       "      <th>apoplexy</th>\n",
       "    </tr>\n",
       "  </thead>\n",
       "  <tbody>\n",
       "    <tr>\n",
       "      <th>0</th>\n",
       "      <td>Male</td>\n",
       "      <td>67.0</td>\n",
       "      <td>No</td>\n",
       "      <td>Yes</td>\n",
       "      <td>Yes</td>\n",
       "      <td>Private</td>\n",
       "      <td>Urban</td>\n",
       "      <td>228.69</td>\n",
       "      <td>36.600000</td>\n",
       "      <td>formerly smoked</td>\n",
       "      <td>Yes</td>\n",
       "    </tr>\n",
       "    <tr>\n",
       "      <th>1</th>\n",
       "      <td>Female</td>\n",
       "      <td>61.0</td>\n",
       "      <td>No</td>\n",
       "      <td>No</td>\n",
       "      <td>Yes</td>\n",
       "      <td>Self-employed</td>\n",
       "      <td>Rural</td>\n",
       "      <td>202.21</td>\n",
       "      <td>28.893237</td>\n",
       "      <td>never smoked</td>\n",
       "      <td>Yes</td>\n",
       "    </tr>\n",
       "    <tr>\n",
       "      <th>2</th>\n",
       "      <td>Male</td>\n",
       "      <td>80.0</td>\n",
       "      <td>No</td>\n",
       "      <td>Yes</td>\n",
       "      <td>Yes</td>\n",
       "      <td>Private</td>\n",
       "      <td>Rural</td>\n",
       "      <td>105.92</td>\n",
       "      <td>32.500000</td>\n",
       "      <td>never smoked</td>\n",
       "      <td>Yes</td>\n",
       "    </tr>\n",
       "    <tr>\n",
       "      <th>3</th>\n",
       "      <td>Female</td>\n",
       "      <td>49.0</td>\n",
       "      <td>No</td>\n",
       "      <td>No</td>\n",
       "      <td>Yes</td>\n",
       "      <td>Private</td>\n",
       "      <td>Urban</td>\n",
       "      <td>171.23</td>\n",
       "      <td>34.400000</td>\n",
       "      <td>smokes</td>\n",
       "      <td>Yes</td>\n",
       "    </tr>\n",
       "    <tr>\n",
       "      <th>4</th>\n",
       "      <td>Female</td>\n",
       "      <td>79.0</td>\n",
       "      <td>Yes</td>\n",
       "      <td>No</td>\n",
       "      <td>Yes</td>\n",
       "      <td>Self-employed</td>\n",
       "      <td>Rural</td>\n",
       "      <td>174.12</td>\n",
       "      <td>24.000000</td>\n",
       "      <td>never smoked</td>\n",
       "      <td>Yes</td>\n",
       "    </tr>\n",
       "  </tbody>\n",
       "</table>\n",
       "</div>"
      ],
      "text/plain": [
       "   gender   age hypertension heart_disease ever_married      work_type  \\\n",
       "0    Male  67.0           No           Yes          Yes        Private   \n",
       "1  Female  61.0           No            No          Yes  Self-employed   \n",
       "2    Male  80.0           No           Yes          Yes        Private   \n",
       "3  Female  49.0           No            No          Yes        Private   \n",
       "4  Female  79.0          Yes            No          Yes  Self-employed   \n",
       "\n",
       "  Residence_type  avg_glucose_level        bmi   smoking_status apoplexy  \n",
       "0          Urban             228.69  36.600000  formerly smoked      Yes  \n",
       "1          Rural             202.21  28.893237     never smoked      Yes  \n",
       "2          Rural             105.92  32.500000     never smoked      Yes  \n",
       "3          Urban             171.23  34.400000           smokes      Yes  \n",
       "4          Rural             174.12  24.000000     never smoked      Yes  "
      ]
     },
     "execution_count": 8,
     "metadata": {},
     "output_type": "execute_result"
    }
   ],
   "source": [
    "dataset1.head()"
   ]
  },
  {
   "cell_type": "code",
   "execution_count": 9,
   "id": "1b9a1c7c",
   "metadata": {},
   "outputs": [
    {
     "data": {
      "text/plain": [
       "array([[<AxesSubplot:title={'center':'age'}>,\n",
       "        <AxesSubplot:title={'center':'avg_glucose_level'}>],\n",
       "       [<AxesSubplot:title={'center':'bmi'}>, <AxesSubplot:>]],\n",
       "      dtype=object)"
      ]
     },
     "execution_count": 9,
     "metadata": {},
     "output_type": "execute_result"
    },
    {
     "data": {
      "image/png": "[encoded data removed]",
      "text/plain": [
       "<Figure size 432x288 with 4 Axes>"
      ]
     },
     "metadata": {
      "needs_background": "light"
     },
     "output_type": "display_data"
    }
   ],
   "source": [
    "dataset1[['age','avg_glucose_level','bmi']].hist(bins=30)"
   ]
  },
  {
   "cell_type": "code",
   "execution_count": 10,
   "id": "51b2013a",
   "metadata": {},
   "outputs": [],
   "source": [
    "from sklearn.preprocessing import KBinsDiscretizer"
   ]
  },
  {
   "cell_type": "code",
   "execution_count": 11,
   "id": "cd1a0fc6",
   "metadata": {},
   "outputs": [
    {
     "data": {
      "text/plain": [
       "array([array([8.000e-02, 1.032e+01, 2.056e+01, 3.080e+01, 4.104e+01, 5.128e+01,\n",
       "              6.152e+01, 7.176e+01, 8.200e+01])                                ,\n",
       "       array([ 55.12  ,  82.1975, 109.275 , 136.3525, 163.43  , 190.5075,\n",
       "              217.585 , 244.6625, 271.74  ])                             ,\n",
       "       array([10.3   , 21.2125, 32.125 , 43.0375, 53.95  , 64.8625, 75.775 ,\n",
       "              86.6875, 97.6   ])                                            ],\n",
       "      dtype=object)"
      ]
     },
     "execution_count": 11,
     "metadata": {},
     "output_type": "execute_result"
    }
   ],
   "source": [
    "disc = KBinsDiscretizer(n_bins=8, encode='ordinal', strategy='uniform')\n",
    "disc.fit(dataset1[['age','avg_glucose_level','bmi']])\n",
    "disc.bin_edges_"
   ]
  },
  {
   "cell_type": "code",
   "execution_count": 12,
   "id": "399e3ecc",
   "metadata": {},
   "outputs": [],
   "source": [
    "dataset1[['age','avg_glucose_level','bmi']]=disc.transform(dataset1[['age','avg_glucose_level','bmi']])"
   ]
  },
  {
   "cell_type": "code",
   "execution_count": 13,
   "id": "0f1282b4",
   "metadata": {},
   "outputs": [
    {
     "data": {
      "image/png": "[encoded data removed]",
      "text/plain": [
       "<Figure size 432x288 with 4 Axes>"
      ]
     },
     "metadata": {
      "needs_background": "light"
     },
     "output_type": "display_data"
    }
   ],
   "source": [
    "dataset1[['age','avg_glucose_level','bmi']].hist(bins=30)\n",
    "plt.show()"
   ]
  },
  {
   "cell_type": "code",
   "execution_count": 14,
   "id": "b8ba7321",
   "metadata": {},
   "outputs": [
    {
     "data": {
      "image/png": "[encoded data removed]",
      "text/plain": [
       "<Figure size 432x288 with 1 Axes>"
      ]
     },
     "metadata": {
      "needs_background": "light"
     },
     "output_type": "display_data"
    }
   ],
   "source": [
    "dataset1[['age','avg_glucose_level','bmi']].boxplot()\n",
    "plt.show()"
   ]
  },
  {
   "cell_type": "code",
   "execution_count": 15,
   "id": "d08b1f90",
   "metadata": {},
   "outputs": [],
   "source": [
    "def outlier_handling():\n",
    "    variable=['age','avg_glucose_level','bmi']\n",
    "    for i in variable:\n",
    "        def find_skewed_boundries(df,variable,distance):\n",
    "            IQR=df[variable].quantile(0.75)-df[variable].quantile(0.25)\n",
    "            lower_boundry=df[variable].quantile(0.25)-(IQR*distance)\n",
    "            upper_boundry=df[variable].quantile(0.75)+(IQR*distance)  \n",
    "            return upper_boundry,lower_boundry\n",
    "        \n",
    "        variable_upperlimit,variable_lowerlimit=find_skewed_boundries(dataset1,i,1.5)\n",
    "        \n",
    "        dataset1[i]=np.where(dataset1[i]>variable_upperlimit,variable_upperlimit,\n",
    "                        np.where(dataset1[i]<variable_lowerlimit,variable_lowerlimit,dataset1[i]))"
   ]
  },
  {
   "cell_type": "code",
   "execution_count": 16,
   "id": "12b3eea5",
   "metadata": {},
   "outputs": [],
   "source": [
    "outlier_handling()"
   ]
  },
  {
   "cell_type": "code",
   "execution_count": 17,
   "id": "35c44005",
   "metadata": {},
   "outputs": [
    {
     "data": {
      "image/png": "[encoded data removed]",
      "text/plain": [
       "<Figure size 432x288 with 1 Axes>"
      ]
     },
     "metadata": {
      "needs_background": "light"
     },
     "output_type": "display_data"
    }
   ],
   "source": [
    "dataset1[['age','avg_glucose_level','bmi']].boxplot()\n",
    "plt.show()"
   ]
  },
  {
   "cell_type": "code",
   "execution_count": 18,
   "id": "6d612af5",
   "metadata": {},
   "outputs": [],
   "source": [
    "x=dataset1.iloc[:,:-1].values\n",
    "y=dataset1.iloc[:,-1].values"
   ]
  },
  {
   "cell_type": "code",
   "execution_count": 19,
   "id": "c480fdb1",
   "metadata": {},
   "outputs": [],
   "source": [
    "from sklearn.preprocessing import LabelEncoder\n",
    "le=LabelEncoder()\n",
    "y=le.fit_transform(y)"
   ]
  },
  {
   "cell_type": "code",
   "execution_count": 20,
   "id": "5e96995a",
   "metadata": {},
   "outputs": [],
   "source": [
    "from sklearn.preprocessing import OrdinalEncoder\n",
    "oe=OrdinalEncoder()\n",
    "x[:,[0,2,3,4,5,6,9]]=oe.fit_transform(x[:,[0,2,3,4,5,6,9]])"
   ]
  },
  {
   "cell_type": "code",
   "execution_count": 21,
   "id": "d914033e",
   "metadata": {},
   "outputs": [
    {
     "name": "stdout",
     "output_type": "stream",
     "text": [
      "        0    1    2    3    4    5    6    7    8    9\n",
      "0     1.0  6.0  0.0  1.0  1.0  2.0  1.0  5.0  2.0  1.0\n",
      "1     0.0  5.0  0.0  0.0  1.0  3.0  0.0  5.0  1.0  2.0\n",
      "2     1.0  7.0  0.0  1.0  1.0  2.0  0.0  1.0  2.0  2.0\n",
      "3     0.0  4.0  0.0  0.0  1.0  2.0  1.0  4.0  2.0  3.0\n",
      "4     0.0  7.0  1.0  0.0  1.0  3.0  0.0  4.0  1.0  2.0\n",
      "...   ...  ...  ...  ...  ...  ...  ...  ...  ...  ...\n",
      "5105  0.0  7.0  1.0  0.0  1.0  2.0  1.0  1.0  1.0  2.0\n",
      "5106  0.0  7.0  0.0  0.0  1.0  3.0  1.0  2.0  2.0  2.0\n",
      "5107  0.0  3.0  0.0  0.0  1.0  3.0  0.0  1.0  1.0  2.0\n",
      "5108  1.0  4.0  0.0  0.0  1.0  2.0  0.0  4.0  1.0  1.0\n",
      "5109  0.0  4.0  0.0  0.0  1.0  0.0  1.0  1.0  1.0  0.0\n",
      "\n",
      "[5110 rows x 10 columns]\n"
     ]
    }
   ],
   "source": [
    "print(pd.DataFrame(x))"
   ]
  },
  {
   "cell_type": "code",
   "execution_count": 22,
   "id": "9a7c8435",
   "metadata": {},
   "outputs": [],
   "source": [
    "from sklearn.model_selection import train_test_split\n",
    "x_train,x_test,y_train,y_test=train_test_split(x,y,test_size=0.2,random_state=0)"
   ]
  },
  {
   "cell_type": "code",
   "execution_count": 23,
   "id": "d195e864",
   "metadata": {},
   "outputs": [
    {
     "data": {
      "text/plain": [
       "<matplotlib.legend.Legend at 0x2eb1ce73370>"
      ]
     },
     "execution_count": 23,
     "metadata": {},
     "output_type": "execute_result"
    },
    {
     "data": {
      "image/png": "[encoded data removed]",
      "text/plain": [
       "<Figure size 360x360 with 1 Axes>"
      ]
     },
     "metadata": {
      "needs_background": "light"
     },
     "output_type": "display_data"
    }
   ],
   "source": [
    "fig,ax5=plt.subplots(figsize=(5,5))\n",
    "pd.DataFrame(x_train).plot(kind='kde', ax=ax5)\n",
    "ax5.set_title('Before scaling')\n",
    "lines5, labels5 = ax5.get_legend_handles_labels()\n",
    "ax5.legend(lines5, labels5, loc='best')"
   ]
  },
  {
   "cell_type": "code",
   "execution_count": 24,
   "id": "428aec44",
   "metadata": {},
   "outputs": [],
   "source": [
    "from sklearn.preprocessing import StandardScaler\n",
    "sc=StandardScaler()\n",
    "x_train=sc.fit_transform(x_train)\n",
    "x_test=sc.transform(x_test)"
   ]
  },
  {
   "cell_type": "code",
   "execution_count": 25,
   "id": "2c167106",
   "metadata": {},
   "outputs": [
    {
     "data": {
      "text/plain": [
       "<matplotlib.legend.Legend at 0x2eb1cedf670>"
      ]
     },
     "execution_count": 25,
     "metadata": {},
     "output_type": "execute_result"
    },
    {
     "data": {
      "image/png": "[encoded data removed]",
      "text/plain": [
       "<Figure size 360x360 with 1 Axes>"
      ]
     },
     "metadata": {
      "needs_background": "light"
     },
     "output_type": "display_data"
    }
   ],
   "source": [
    "fig,ax6=plt.subplots(figsize=(5,5))\n",
    "pd.DataFrame(x_train).plot(kind='kde', ax=ax6)\n",
    "ax5.set_title('After scaling')\n",
    "lines6, labels6 = ax6.get_legend_handles_labels()\n",
    "ax6.legend(lines6, labels6, loc='best')"
   ]
  },
  {
   "cell_type": "code",
   "execution_count": null,
   "id": "51be6420",
   "metadata": {},
   "outputs": [],
   "source": []
  },
  {
   "cell_type": "code",
   "execution_count": null,
   "id": "30ffa270",
   "metadata": {},
   "outputs": [],
   "source": [
    "#Pipeline"
   ]
  },
  {
   "cell_type": "code",
   "execution_count": null,
   "id": "6fa96fcd",
   "metadata": {},
   "outputs": [],
   "source": []
  },
  {
   "cell_type": "code",
   "execution_count": 1,
   "id": "a302d926",
   "metadata": {},
   "outputs": [],
   "source": [
    "import numpy as np\n",
    "import pandas as pd\n",
    "import matplotlib.pyplot as plt\n",
    "from sklearn.pipeline import Pipeline\n",
    "from sklearn.impute import SimpleImputer\n",
    "from sklearn.preprocessing import KBinsDiscretizer\n",
    "from sklearn.preprocessing import StandardScaler, MinMaxScaler, MaxAbsScaler\n",
    "from sklearn.preprocessing import OrdinalEncoder, OneHotEncoder\n",
    "from sklearn.compose import ColumnTransformer\n",
    "from sklearn.tree import DecisionTreeClassifier\n",
    "from sklearn.model_selection import train_test_split\n",
    "from sklearn.preprocessing import LabelEncoder\n",
    "from sklearn.model_selection import cross_val_score\n",
    "from sklearn.metrics import confusion_matrix, accuracy_score\n",
    "from sklearn.metrics import precision_score,f1_score,recall_score,roc_auc_score, classification_report\n",
    "from sklearn.model_selection import GridSearchCV\n",
    "from sklearn.linear_model import LogisticRegression\n",
    "from sklearn.neighbors import KNeighborsClassifier\n",
    "from sklearn.naive_bayes import GaussianNB\n",
    "from sklearn.ensemble import RandomForestClassifier\n",
    "from sklearn.svm import SVC"
   ]
  },
  {
   "cell_type": "code",
   "execution_count": 2,
   "id": "5517d59c",
   "metadata": {},
   "outputs": [
    {
     "name": "stdout",
     "output_type": "stream",
     "text": [
      "(5110, 11)\n"
     ]
    },
    {
     "data": {
      "text/html": [
       "<div>\n",
       "<style scoped>\n",
       "    .dataframe tbody tr th:only-of-type {\n",
       "        vertical-align: middle;\n",
       "    }\n",
       "\n",
       "    .dataframe tbody tr th {\n",
       "        vertical-align: top;\n",
       "    }\n",
       "\n",
       "    .dataframe thead th {\n",
       "        text-align: right;\n",
       "    }\n",
       "</style>\n",
       "<table border=\"1\" class=\"dataframe\">\n",
       "  <thead>\n",
       "    <tr style=\"text-align: right;\">\n",
       "      <th></th>\n",
       "      <th>gender</th>\n",
       "      <th>age</th>\n",
       "      <th>hypertension</th>\n",
       "      <th>heart_disease</th>\n",
       "      <th>ever_married</th>\n",
       "      <th>work_type</th>\n",
       "      <th>Residence_type</th>\n",
       "      <th>avg_glucose_level</th>\n",
       "      <th>bmi</th>\n",
       "      <th>smoking_status</th>\n",
       "      <th>apoplexy</th>\n",
       "    </tr>\n",
       "  </thead>\n",
       "  <tbody>\n",
       "    <tr>\n",
       "      <th>0</th>\n",
       "      <td>Male</td>\n",
       "      <td>67.0</td>\n",
       "      <td>No</td>\n",
       "      <td>Yes</td>\n",
       "      <td>Yes</td>\n",
       "      <td>Private</td>\n",
       "      <td>Urban</td>\n",
       "      <td>228.69</td>\n",
       "      <td>36.6</td>\n",
       "      <td>formerly smoked</td>\n",
       "      <td>Yes</td>\n",
       "    </tr>\n",
       "    <tr>\n",
       "      <th>1</th>\n",
       "      <td>Female</td>\n",
       "      <td>61.0</td>\n",
       "      <td>No</td>\n",
       "      <td>No</td>\n",
       "      <td>Yes</td>\n",
       "      <td>Self-employed</td>\n",
       "      <td>Rural</td>\n",
       "      <td>202.21</td>\n",
       "      <td>NaN</td>\n",
       "      <td>never smoked</td>\n",
       "      <td>Yes</td>\n",
       "    </tr>\n",
       "    <tr>\n",
       "      <th>2</th>\n",
       "      <td>Male</td>\n",
       "      <td>80.0</td>\n",
       "      <td>No</td>\n",
       "      <td>Yes</td>\n",
       "      <td>Yes</td>\n",
       "      <td>Private</td>\n",
       "      <td>Rural</td>\n",
       "      <td>105.92</td>\n",
       "      <td>32.5</td>\n",
       "      <td>never smoked</td>\n",
       "      <td>Yes</td>\n",
       "    </tr>\n",
       "    <tr>\n",
       "      <th>3</th>\n",
       "      <td>Female</td>\n",
       "      <td>49.0</td>\n",
       "      <td>No</td>\n",
       "      <td>No</td>\n",
       "      <td>Yes</td>\n",
       "      <td>Private</td>\n",
       "      <td>Urban</td>\n",
       "      <td>171.23</td>\n",
       "      <td>34.4</td>\n",
       "      <td>smokes</td>\n",
       "      <td>Yes</td>\n",
       "    </tr>\n",
       "    <tr>\n",
       "      <th>4</th>\n",
       "      <td>Female</td>\n",
       "      <td>79.0</td>\n",
       "      <td>Yes</td>\n",
       "      <td>No</td>\n",
       "      <td>Yes</td>\n",
       "      <td>Self-employed</td>\n",
       "      <td>Rural</td>\n",
       "      <td>174.12</td>\n",
       "      <td>24.0</td>\n",
       "      <td>never smoked</td>\n",
       "      <td>Yes</td>\n",
       "    </tr>\n",
       "  </tbody>\n",
       "</table>\n",
       "</div>"
      ],
      "text/plain": [
       "   gender   age hypertension heart_disease ever_married      work_type  \\\n",
       "0    Male  67.0           No           Yes          Yes        Private   \n",
       "1  Female  61.0           No            No          Yes  Self-employed   \n",
       "2    Male  80.0           No           Yes          Yes        Private   \n",
       "3  Female  49.0           No            No          Yes        Private   \n",
       "4  Female  79.0          Yes            No          Yes  Self-employed   \n",
       "\n",
       "  Residence_type  avg_glucose_level   bmi   smoking_status apoplexy  \n",
       "0          Urban             228.69  36.6  formerly smoked      Yes  \n",
       "1          Rural             202.21   NaN     never smoked      Yes  \n",
       "2          Rural             105.92  32.5     never smoked      Yes  \n",
       "3          Urban             171.23  34.4           smokes      Yes  \n",
       "4          Rural             174.12  24.0     never smoked      Yes  "
      ]
     },
     "execution_count": 2,
     "metadata": {},
     "output_type": "execute_result"
    }
   ],
   "source": [
    "dataset = pd.read_csv('Disease Prediction Data.csv')\n",
    "dataset=dataset.drop('id',axis=1)\n",
    "print(dataset.shape)\n",
    "dataset.head()"
   ]
  },
  {
   "cell_type": "code",
   "execution_count": 3,
   "id": "1fc10d79",
   "metadata": {},
   "outputs": [],
   "source": [
    "def outlier_handling():\n",
    "    variable=['age','avg_glucose_level','bmi']\n",
    "    for i in variable:\n",
    "        def find_skewed_boundries(df,variable,distance):\n",
    "            IQR=df[variable].quantile(0.75)-df[variable].quantile(0.25)\n",
    "            lower_boundry=df[variable].quantile(0.25)-(IQR*distance)\n",
    "            upper_boundry=df[variable].quantile(0.75)+(IQR*distance)  \n",
    "            return upper_boundry,lower_boundry\n",
    "        \n",
    "        variable_upperlimit,variable_lowerlimit=find_skewed_boundries(dataset,i,1.5)\n",
    "        \n",
    "        dataset[i]=np.where(dataset[i]>variable_upperlimit,variable_upperlimit,\n",
    "                        np.where(dataset[i]<variable_lowerlimit,variable_lowerlimit,dataset[i]))"
   ]
  },
  {
   "cell_type": "code",
   "execution_count": 4,
   "id": "cccae7c2",
   "metadata": {},
   "outputs": [],
   "source": [
    "numeric_features=[\"age\",\"avg_glucose_level\",\"bmi\"]\n",
    "numeric_transformer=Pipeline(steps=[('imputer',SimpleImputer(strategy='mean')),('binning',KBinsDiscretizer(n_bins=8, encode='ordinal', strategy='uniform')),\n",
    "                                   ('outlier',outlier_handling()),('scaler',StandardScaler())])\n",
    "\n",
    "categorical_features=['gender','hypertension','heart_disease','ever_married','work_type','Residence_type','smoking_status']\n",
    "categorical_transformer=Pipeline(steps=[('encoder',OrdinalEncoder()),('scaler',StandardScaler())])\n",
    "\n",
    "preprocessor = ColumnTransformer(transformers=[('num',numeric_transformer,numeric_features),\n",
    "                                              ('cat',categorical_transformer,categorical_features)])\n"
   ]
  },
  {
   "cell_type": "code",
   "execution_count": 5,
   "id": "184a1787",
   "metadata": {},
   "outputs": [],
   "source": [
    "x=dataset.iloc[:,:-1]\n",
    "y=dataset.iloc[:,-1]\n",
    "\n",
    "le=LabelEncoder()\n",
    "y=le.fit_transform(y)"
   ]
  },
  {
   "cell_type": "code",
   "execution_count": 6,
   "id": "28011612",
   "metadata": {},
   "outputs": [],
   "source": [
    "x_train,x_test,y_train,y_test=train_test_split(x,y,test_size=0.2,random_state=0)"
   ]
  },
  {
   "cell_type": "code",
   "execution_count": 7,
   "id": "44a47c0d",
   "metadata": {},
   "outputs": [
    {
     "name": "stdout",
     "output_type": "stream",
     "text": [
      "Descision Tree\n",
      "\n",
      "[[930  38]\n",
      " [ 48   6]]\n",
      "              precision    recall  f1-score   support\n",
      "\n",
      "           0       0.95      0.96      0.96       968\n",
      "           1       0.14      0.11      0.12        54\n",
      "\n",
      "    accuracy                           0.92      1022\n",
      "   macro avg       0.54      0.54      0.54      1022\n",
      "weighted avg       0.91      0.92      0.91      1022\n",
      "\n"
     ]
    },
    {
     "data": {
      "image/png": "[encoded data removed]",
      "text/plain": [
       "<Figure size 432x288 with 1 Axes>"
      ]
     },
     "metadata": {
      "needs_background": "light"
     },
     "output_type": "display_data"
    },
    {
     "name": "stdout",
     "output_type": "stream",
     "text": [
      "---------------------------------------------------------------------------------------------------------------------\n",
      "\n",
      "\n",
      "KNN\n",
      "\n",
      "[[968   0]\n",
      " [ 54   0]]\n",
      "              precision    recall  f1-score   support\n",
      "\n",
      "           0       0.95      1.00      0.97       968\n",
      "           1       0.00      0.00      0.00        54\n",
      "\n",
      "    accuracy                           0.95      1022\n",
      "   macro avg       0.47      0.50      0.49      1022\n",
      "weighted avg       0.90      0.95      0.92      1022\n",
      "\n"
     ]
    },
    {
     "data": {
      "image/png": "[encoded data removed]",
      "text/plain": [
       "<Figure size 432x288 with 1 Axes>"
      ]
     },
     "metadata": {
      "needs_background": "light"
     },
     "output_type": "display_data"
    },
    {
     "name": "stdout",
     "output_type": "stream",
     "text": [
      "---------------------------------------------------------------------------------------------------------------------\n",
      "\n",
      "\n",
      "Logistic regression\n",
      "\n",
      "[[968   0]\n",
      " [ 54   0]]\n",
      "              precision    recall  f1-score   support\n",
      "\n",
      "           0       0.95      1.00      0.97       968\n",
      "           1       0.00      0.00      0.00        54\n",
      "\n",
      "    accuracy                           0.95      1022\n",
      "   macro avg       0.47      0.50      0.49      1022\n",
      "weighted avg       0.90      0.95      0.92      1022\n",
      "\n"
     ]
    },
    {
     "data": {
      "image/png": "[encoded data removed]",
      "text/plain": [
       "<Figure size 432x288 with 1 Axes>"
      ]
     },
     "metadata": {
      "needs_background": "light"
     },
     "output_type": "display_data"
    },
    {
     "name": "stdout",
     "output_type": "stream",
     "text": [
      "---------------------------------------------------------------------------------------------------------------------\n",
      "\n",
      "\n",
      "Naive Bayes\n",
      "\n",
      "[[883  85]\n",
      " [ 35  19]]\n",
      "              precision    recall  f1-score   support\n",
      "\n",
      "           0       0.96      0.91      0.94       968\n",
      "           1       0.18      0.35      0.24        54\n",
      "\n",
      "    accuracy                           0.88      1022\n",
      "   macro avg       0.57      0.63      0.59      1022\n",
      "weighted avg       0.92      0.88      0.90      1022\n",
      "\n"
     ]
    },
    {
     "data": {
      "image/png": "[encoded data removed]",
      "text/plain": [
       "<Figure size 432x288 with 1 Axes>"
      ]
     },
     "metadata": {
      "needs_background": "light"
     },
     "output_type": "display_data"
    },
    {
     "name": "stdout",
     "output_type": "stream",
     "text": [
      "---------------------------------------------------------------------------------------------------------------------\n",
      "\n",
      "\n",
      "Random Forest\n",
      "\n",
      "[[964   4]\n",
      " [ 52   2]]\n",
      "              precision    recall  f1-score   support\n",
      "\n",
      "           0       0.95      1.00      0.97       968\n",
      "           1       0.33      0.04      0.07        54\n",
      "\n",
      "    accuracy                           0.95      1022\n",
      "   macro avg       0.64      0.52      0.52      1022\n",
      "weighted avg       0.92      0.95      0.92      1022\n",
      "\n"
     ]
    },
    {
     "data": {
      "image/png": "[encoded data removed]",
      "text/plain": [
       "<Figure size 432x288 with 1 Axes>"
      ]
     },
     "metadata": {
      "needs_background": "light"
     },
     "output_type": "display_data"
    },
    {
     "name": "stdout",
     "output_type": "stream",
     "text": [
      "---------------------------------------------------------------------------------------------------------------------\n",
      "\n",
      "\n",
      "SVM\n",
      "\n",
      "[[968   0]\n",
      " [ 54   0]]\n",
      "              precision    recall  f1-score   support\n",
      "\n",
      "           0       0.95      1.00      0.97       968\n",
      "           1       0.00      0.00      0.00        54\n",
      "\n",
      "    accuracy                           0.95      1022\n",
      "   macro avg       0.47      0.50      0.49      1022\n",
      "weighted avg       0.90      0.95      0.92      1022\n",
      "\n"
     ]
    },
    {
     "data": {
      "image/png": "[encoded data removed]",
      "text/plain": [
       "<Figure size 432x288 with 1 Axes>"
      ]
     },
     "metadata": {
      "needs_background": "light"
     },
     "output_type": "display_data"
    },
    {
     "name": "stdout",
     "output_type": "stream",
     "text": [
      "---------------------------------------------------------------------------------------------------------------------\n",
      "\n",
      "\n"
     ]
    }
   ],
   "source": [
    "for i in range(6):\n",
    "    models=[DecisionTreeClassifier(criterion='entropy', random_state=0),KNeighborsClassifier(n_neighbors=9,metric='minkowski'),LogisticRegression(random_state=0),GaussianNB(),RandomForestClassifier(n_estimators=500, criterion='entropy', random_state=3),SVC(kernel='rbf', random_state=0,C= 0.25, gamma=0.1)]\n",
    "    name=['Descision Tree','KNN','Logistic regression','Naive Bayes','Random Forest','SVM']\n",
    "    classification_pipeline=Pipeline(steps=[('preprocessor',preprocessor),('classification',models[i])])\n",
    "    classification_pipeline.fit(x_train,y_train)\n",
    "    y_pred=classification_pipeline.predict(x_test)\n",
    "    cm=confusion_matrix(y_test, y_pred)\n",
    "    print(name[i])\n",
    "    print()\n",
    "    print(cm)\n",
    "    print(classification_report(y_true=y_test,y_pred=y_pred,zero_division=0))\n",
    "    from sklearn import metrics\n",
    "    fpr,tpr,thresholds=metrics.roc_curve(y_test,y_pred, pos_label=1)\n",
    "    roc_auc = metrics.auc(fpr,tpr)\n",
    "    display = metrics.RocCurveDisplay(fpr=fpr,tpr=tpr,roc_auc=roc_auc)\n",
    "    display.plot()\n",
    "    plt.show()\n",
    "    print('---------------------------------------------------------------------------------------------------------------------')            \n",
    "    print()\n",
    "    print() "
   ]
  },
  {
   "cell_type": "code",
   "execution_count": null,
   "id": "200781d9",
   "metadata": {},
   "outputs": [],
   "source": []
  }
 ],
 "metadata": {
  "kernelspec": {
   "display_name": "Python 3 (ipykernel)",
   "language": "python",
   "name": "python3"
  },
  "language_info": {
   "codemirror_mode": {
    "name": "ipython",
    "version": 3
   },
   "file_extension": ".py",
   "mimetype": "text/x-python",
   "name": "python",
   "nbconvert_exporter": "python",
   "pygments_lexer": "ipython3",
   "version": "3.9.12"
  }
 },
 "nbformat": 4,
 "nbformat_minor": 5
}
